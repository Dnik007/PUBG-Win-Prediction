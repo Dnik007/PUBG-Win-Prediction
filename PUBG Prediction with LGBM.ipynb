{
  "cells": [
    {
      "metadata": {
        "_uuid": "8f2839f25d086af736a60e9eeb907d3b93b6e0e5",
        "_cell_guid": "b1076dfc-b9ad-4769-8c92-a6c4dae69d19",
        "trusted": true
      },
      "cell_type": "code",
      "source": "# This Python 3 environment comes with many helpful analytics libraries installed\n# It is defined by the kaggle/python docker image: https://github.com/kaggle/docker-python\n# For example, here's several helpful packages to load in \n\nimport numpy as np # linear algebra\nimport pandas as pd # data processing, CSV file I/O (e.g. pd.read_csv)\n\n# Input data files are available in the \"../input/\" directory.\n# For example, running this (by clicking run or pressing Shift+Enter) will list the files in the input directory\n\nimport os\nprint(os.listdir(\"../input\"))\npd.set_option('float_format', '{:f}'.format)\n# Any results you write to the current directory are saved as output.",
      "execution_count": 1,
      "outputs": [
        {
          "output_type": "stream",
          "text": "['train.csv', 'sample_submission.csv', 'test.csv']\n",
          "name": "stdout"
        }
      ]
    },
    {
      "metadata": {
        "_cell_guid": "79c7e3d0-c299-4dcb-8224-4455121ee9b0",
        "_uuid": "d629ff2d2480ee46fbb7e2d37f6b5fab8052498a",
        "trusted": true
      },
      "cell_type": "code",
      "source": "train_df = pd.read_csv('../input/train.csv')\ntest_df  = pd.read_csv('../input/test.csv')",
      "execution_count": 2,
      "outputs": []
    },
    {
      "metadata": {
        "trusted": true,
        "_uuid": "62a5873d5b30271c68cb76fd7aa8559d8096174a"
      },
      "cell_type": "code",
      "source": "print('Old size: %d' % len(train_df))\ntrain_df = train_df[(train_df.kills <= 35) & (train_df.assists <= 13) & (train_df.boosts <= 16) & (train_df.damageDealt <= 3500) \n                   & (train_df.DBNOs <= 35) & (train_df.headshotKills <= 22) & (train_df.killStreaks <= 10) & (train_df.assists <= 13)\n                   & (train_df.longestKill <= 1000) & (train_df.revives <= 20) & (train_df.rideDistance <= 28000) & (train_df.roadKills <= 15) \n                   & (train_df.swimDistance <= 3500) & (train_df.teamKills <= 10) & (train_df.vehicleDestroys <= 3) & (train_df.walkDistance <= 13000) \n                   & (train_df.weaponsAcquired <= 60)]\n\nprint('New size: %d' % len(train_df))\n\ndef headshot_precent(data):\n    data['headPerc']=data['headshotKills']/data['kills']\n    data['roadPerc']=data['roadKills']/data['kills']\n    data['totalDistance']=data['rideDistance']+data['swimDistance']+data['walkDistance']\n    data['rideDistancePerc']=data['rideDistance']/data['totalDistance']\n    data['swimDistancePerc']=data['swimDistance']/data['totalDistance']\n    data['walkDistancePerc']=data['walkDistance']/data['totalDistance']\n    \n    data.fillna(0,axis=1,inplace=True)                                          \n    return data.head()\nheadshot_precent(train_df)\nheadshot_precent(test_df)",
      "execution_count": 3,
      "outputs": [
        {
          "output_type": "stream",
          "text": "Old size: 4357336\nNew size: 4357226\n",
          "name": "stdout"
        },
        {
          "output_type": "execute_result",
          "execution_count": 3,
          "data": {
            "text/plain": "      Id  groupId        ...         swimDistancePerc  walkDistancePerc\n0  47734  1659463        ...                 0.000000          1.000000\n1  47735  1659508        ...                 0.000000          1.000000\n2  47736  1659555        ...                 0.000000          1.000000\n3  47737  1659621        ...                 0.000000          1.000000\n4  47738  1659675        ...                 0.000000          1.000000\n\n[5 rows x 31 columns]",
            "text/html": "<div>\n<style scoped>\n    .dataframe tbody tr th:only-of-type {\n        vertical-align: middle;\n    }\n\n    .dataframe tbody tr th {\n        vertical-align: top;\n    }\n\n    .dataframe thead th {\n        text-align: right;\n    }\n</style>\n<table border=\"1\" class=\"dataframe\">\n  <thead>\n    <tr style=\"text-align: right;\">\n      <th></th>\n      <th>Id</th>\n      <th>groupId</th>\n      <th>matchId</th>\n      <th>assists</th>\n      <th>boosts</th>\n      <th>damageDealt</th>\n      <th>DBNOs</th>\n      <th>headshotKills</th>\n      <th>heals</th>\n      <th>killPlace</th>\n      <th>killPoints</th>\n      <th>kills</th>\n      <th>killStreaks</th>\n      <th>longestKill</th>\n      <th>maxPlace</th>\n      <th>numGroups</th>\n      <th>revives</th>\n      <th>rideDistance</th>\n      <th>roadKills</th>\n      <th>swimDistance</th>\n      <th>teamKills</th>\n      <th>vehicleDestroys</th>\n      <th>walkDistance</th>\n      <th>weaponsAcquired</th>\n      <th>winPoints</th>\n      <th>headPerc</th>\n      <th>roadPerc</th>\n      <th>totalDistance</th>\n      <th>rideDistancePerc</th>\n      <th>swimDistancePerc</th>\n      <th>walkDistancePerc</th>\n    </tr>\n  </thead>\n  <tbody>\n    <tr>\n      <th>0</th>\n      <td>47734</td>\n      <td>1659463</td>\n      <td>47734</td>\n      <td>0</td>\n      <td>0</td>\n      <td>100.000000</td>\n      <td>1</td>\n      <td>0</td>\n      <td>0</td>\n      <td>59</td>\n      <td>1000</td>\n      <td>0</td>\n      <td>0</td>\n      <td>0.000000</td>\n      <td>50</td>\n      <td>45</td>\n      <td>0</td>\n      <td>0.000000</td>\n      <td>0</td>\n      <td>0.000000</td>\n      <td>1</td>\n      <td>0</td>\n      <td>421.500000</td>\n      <td>7</td>\n      <td>1500</td>\n      <td>0.000000</td>\n      <td>0.000000</td>\n      <td>421.500000</td>\n      <td>0.000000</td>\n      <td>0.000000</td>\n      <td>1.000000</td>\n    </tr>\n    <tr>\n      <th>1</th>\n      <td>47735</td>\n      <td>1659508</td>\n      <td>47735</td>\n      <td>0</td>\n      <td>1</td>\n      <td>400.000000</td>\n      <td>2</td>\n      <td>0</td>\n      <td>3</td>\n      <td>9</td>\n      <td>1200</td>\n      <td>4</td>\n      <td>2</td>\n      <td>15.420000</td>\n      <td>48</td>\n      <td>47</td>\n      <td>1</td>\n      <td>0.000000</td>\n      <td>0</td>\n      <td>0.000000</td>\n      <td>0</td>\n      <td>0</td>\n      <td>655.800000</td>\n      <td>4</td>\n      <td>1526</td>\n      <td>0.000000</td>\n      <td>0.000000</td>\n      <td>655.800000</td>\n      <td>0.000000</td>\n      <td>0.000000</td>\n      <td>1.000000</td>\n    </tr>\n    <tr>\n      <th>2</th>\n      <td>47736</td>\n      <td>1659555</td>\n      <td>47736</td>\n      <td>0</td>\n      <td>0</td>\n      <td>0.000000</td>\n      <td>0</td>\n      <td>0</td>\n      <td>0</td>\n      <td>72</td>\n      <td>1216</td>\n      <td>0</td>\n      <td>0</td>\n      <td>0.000000</td>\n      <td>29</td>\n      <td>28</td>\n      <td>0</td>\n      <td>0.000000</td>\n      <td>0</td>\n      <td>0.000000</td>\n      <td>0</td>\n      <td>0</td>\n      <td>74.580000</td>\n      <td>1</td>\n      <td>1475</td>\n      <td>0.000000</td>\n      <td>0.000000</td>\n      <td>74.580000</td>\n      <td>0.000000</td>\n      <td>0.000000</td>\n      <td>1.000000</td>\n    </tr>\n    <tr>\n      <th>3</th>\n      <td>47737</td>\n      <td>1659621</td>\n      <td>47737</td>\n      <td>0</td>\n      <td>0</td>\n      <td>68.600000</td>\n      <td>0</td>\n      <td>0</td>\n      <td>0</td>\n      <td>68</td>\n      <td>1177</td>\n      <td>0</td>\n      <td>0</td>\n      <td>0.000000</td>\n      <td>97</td>\n      <td>92</td>\n      <td>0</td>\n      <td>0.000000</td>\n      <td>0</td>\n      <td>0.000000</td>\n      <td>0</td>\n      <td>0</td>\n      <td>167.200000</td>\n      <td>2</td>\n      <td>1464</td>\n      <td>0.000000</td>\n      <td>0.000000</td>\n      <td>167.200000</td>\n      <td>0.000000</td>\n      <td>0.000000</td>\n      <td>1.000000</td>\n    </tr>\n    <tr>\n      <th>4</th>\n      <td>47738</td>\n      <td>1659675</td>\n      <td>47738</td>\n      <td>0</td>\n      <td>1</td>\n      <td>370.500000</td>\n      <td>3</td>\n      <td>0</td>\n      <td>1</td>\n      <td>45</td>\n      <td>1013</td>\n      <td>1</td>\n      <td>1</td>\n      <td>5.968000</td>\n      <td>27</td>\n      <td>26</td>\n      <td>0</td>\n      <td>0.000000</td>\n      <td>0</td>\n      <td>0.000000</td>\n      <td>0</td>\n      <td>0</td>\n      <td>146.700000</td>\n      <td>3</td>\n      <td>1505</td>\n      <td>0.000000</td>\n      <td>0.000000</td>\n      <td>146.700000</td>\n      <td>0.000000</td>\n      <td>0.000000</td>\n      <td>1.000000</td>\n    </tr>\n  </tbody>\n</table>\n</div>"
          },
          "metadata": {}
        }
      ]
    },
    {
      "metadata": {
        "trusted": true,
        "_uuid": "61ac2ce1ba6e3d4bd7c6328fa323590b2285be69"
      },
      "cell_type": "code",
      "source": "from lightgbm import LGBMRegressor\nfrom sklearn.model_selection import KFold, StratifiedKFold\nfrom sklearn.metrics import mean_absolute_error\n\nfrom sklearn.model_selection import GridSearchCV",
      "execution_count": 4,
      "outputs": []
    },
    {
      "metadata": {
        "trusted": true,
        "_uuid": "ebb4b752611f5926cb8fb0ab13080f35b94831aa"
      },
      "cell_type": "code",
      "source": "dataset = pd.concat([train_df, test_df], sort=True)\ndf = dataset.groupby(['matchId','groupId']).agg('max')\ndrop_features = [\"Id\", \"groupId\", \"matchId\"]\nfeats = [f for f in train_df.columns if f not in drop_features]\n\ndataset = dataset[drop_features].merge(df[feats], how='left', on=['matchId','groupId'])\ndataset.head()",
      "execution_count": 5,
      "outputs": [
        {
          "output_type": "execute_result",
          "execution_count": 5,
          "data": {
            "text/plain": "   Id  groupId        ...         swimDistancePerc  walkDistancePerc\n0   0       24        ...                 0.000000          0.709022\n1   1   440875        ...                 0.000000          1.000000\n2   2   878242        ...                 0.000000          1.000000\n3   3  1319841        ...                 0.000000          1.000000\n4   4  1757883        ...                 0.000000          1.000000\n\n[5 rows x 32 columns]",
            "text/html": "<div>\n<style scoped>\n    .dataframe tbody tr th:only-of-type {\n        vertical-align: middle;\n    }\n\n    .dataframe tbody tr th {\n        vertical-align: top;\n    }\n\n    .dataframe thead th {\n        text-align: right;\n    }\n</style>\n<table border=\"1\" class=\"dataframe\">\n  <thead>\n    <tr style=\"text-align: right;\">\n      <th></th>\n      <th>Id</th>\n      <th>groupId</th>\n      <th>matchId</th>\n      <th>assists</th>\n      <th>boosts</th>\n      <th>damageDealt</th>\n      <th>DBNOs</th>\n      <th>headshotKills</th>\n      <th>heals</th>\n      <th>killPlace</th>\n      <th>killPoints</th>\n      <th>kills</th>\n      <th>killStreaks</th>\n      <th>longestKill</th>\n      <th>maxPlace</th>\n      <th>numGroups</th>\n      <th>revives</th>\n      <th>rideDistance</th>\n      <th>roadKills</th>\n      <th>swimDistance</th>\n      <th>teamKills</th>\n      <th>vehicleDestroys</th>\n      <th>walkDistance</th>\n      <th>weaponsAcquired</th>\n      <th>winPoints</th>\n      <th>winPlacePerc</th>\n      <th>headPerc</th>\n      <th>roadPerc</th>\n      <th>totalDistance</th>\n      <th>rideDistancePerc</th>\n      <th>swimDistancePerc</th>\n      <th>walkDistancePerc</th>\n    </tr>\n  </thead>\n  <tbody>\n    <tr>\n      <th>0</th>\n      <td>0</td>\n      <td>24</td>\n      <td>0</td>\n      <td>0</td>\n      <td>5</td>\n      <td>284.200000</td>\n      <td>2</td>\n      <td>0</td>\n      <td>9</td>\n      <td>17</td>\n      <td>1050</td>\n      <td>2</td>\n      <td>2</td>\n      <td>65.320000</td>\n      <td>29</td>\n      <td>28</td>\n      <td>1</td>\n      <td>762.100000</td>\n      <td>0</td>\n      <td>0.000000</td>\n      <td>0</td>\n      <td>0</td>\n      <td>1857.000000</td>\n      <td>4</td>\n      <td>1458</td>\n      <td>0.857100</td>\n      <td>0.000000</td>\n      <td>0.000000</td>\n      <td>2619.100000</td>\n      <td>0.430443</td>\n      <td>0.000000</td>\n      <td>0.709022</td>\n    </tr>\n    <tr>\n      <th>1</th>\n      <td>1</td>\n      <td>440875</td>\n      <td>1</td>\n      <td>1</td>\n      <td>0</td>\n      <td>149.700000</td>\n      <td>2</td>\n      <td>1</td>\n      <td>1</td>\n      <td>82</td>\n      <td>1072</td>\n      <td>1</td>\n      <td>1</td>\n      <td>13.550000</td>\n      <td>26</td>\n      <td>23</td>\n      <td>1</td>\n      <td>0.000000</td>\n      <td>0</td>\n      <td>0.000000</td>\n      <td>0</td>\n      <td>0</td>\n      <td>197.300000</td>\n      <td>3</td>\n      <td>1525</td>\n      <td>0.040000</td>\n      <td>1.000000</td>\n      <td>0.000000</td>\n      <td>197.300000</td>\n      <td>0.000000</td>\n      <td>0.000000</td>\n      <td>1.000000</td>\n    </tr>\n    <tr>\n      <th>2</th>\n      <td>2</td>\n      <td>878242</td>\n      <td>2</td>\n      <td>1</td>\n      <td>2</td>\n      <td>143.800000</td>\n      <td>2</td>\n      <td>1</td>\n      <td>7</td>\n      <td>55</td>\n      <td>1470</td>\n      <td>2</td>\n      <td>1</td>\n      <td>121.700000</td>\n      <td>28</td>\n      <td>28</td>\n      <td>1</td>\n      <td>511.400000</td>\n      <td>0</td>\n      <td>0.000000</td>\n      <td>0</td>\n      <td>0</td>\n      <td>3248.000000</td>\n      <td>5</td>\n      <td>1583</td>\n      <td>0.740700</td>\n      <td>0.500000</td>\n      <td>0.000000</td>\n      <td>3248.000000</td>\n      <td>0.172165</td>\n      <td>0.000000</td>\n      <td>1.000000</td>\n    </tr>\n    <tr>\n      <th>3</th>\n      <td>3</td>\n      <td>1319841</td>\n      <td>3</td>\n      <td>0</td>\n      <td>0</td>\n      <td>95.880000</td>\n      <td>0</td>\n      <td>0</td>\n      <td>0</td>\n      <td>86</td>\n      <td>1069</td>\n      <td>0</td>\n      <td>0</td>\n      <td>0.000000</td>\n      <td>97</td>\n      <td>94</td>\n      <td>0</td>\n      <td>0.000000</td>\n      <td>0</td>\n      <td>0.000000</td>\n      <td>0</td>\n      <td>0</td>\n      <td>21.490000</td>\n      <td>1</td>\n      <td>1489</td>\n      <td>0.114600</td>\n      <td>0.000000</td>\n      <td>0.000000</td>\n      <td>21.490000</td>\n      <td>0.000000</td>\n      <td>0.000000</td>\n      <td>1.000000</td>\n    </tr>\n    <tr>\n      <th>4</th>\n      <td>4</td>\n      <td>1757883</td>\n      <td>4</td>\n      <td>0</td>\n      <td>1</td>\n      <td>141.300000</td>\n      <td>1</td>\n      <td>0</td>\n      <td>1</td>\n      <td>59</td>\n      <td>1192</td>\n      <td>1</td>\n      <td>1</td>\n      <td>9.144000</td>\n      <td>47</td>\n      <td>41</td>\n      <td>1</td>\n      <td>0.000000</td>\n      <td>0</td>\n      <td>0.000000</td>\n      <td>1</td>\n      <td>0</td>\n      <td>1077.000000</td>\n      <td>4</td>\n      <td>1512</td>\n      <td>0.521700</td>\n      <td>0.000000</td>\n      <td>0.000000</td>\n      <td>1077.000000</td>\n      <td>0.000000</td>\n      <td>0.000000</td>\n      <td>1.000000</td>\n    </tr>\n  </tbody>\n</table>\n</div>"
          },
          "metadata": {}
        }
      ]
    },
    {
      "metadata": {
        "trusted": true,
        "_uuid": "cd9cf8a0cfab9297da5353491307da23df3c2c2e"
      },
      "cell_type": "code",
      "source": "params = {\n    'num_leaves': 144,\n    'learning_rate': 0.1,\n    'n_estimators': 800,\n    'max_depth':13,\n    'max_bin':55,\n    'bagging_fraction':0.8,\n    'bagging_freq':5,\n    'feature_fraction':0.9\n    }",
      "execution_count": 10,
      "outputs": []
    },
    {
      "metadata": {
        "trusted": true,
        "_uuid": "804fc6edf2f665ce4c503520b7d3722fc67f6cd6"
      },
      "cell_type": "code",
      "source": "import gc\ndef kfold_lightgbm(df, num_folds, stratified = False, debug= False):\n    # Divide in training/validation and test data\n    train_df = df[df['winPlacePerc'].notnull()]\n    test_df = df[df['winPlacePerc'].isnull()]\n    print(\"Starting LightGBM. Train shape: {}, test shape: {}\".format(train_df.shape, test_df.shape))\n    del df\n    gc.collect()\n    # Cross validation model\n    if stratified:\n        folds = StratifiedKFold(n_splits= num_folds, shuffle=True, random_state=1001)\n    else:\n        folds = KFold(n_splits= num_folds, shuffle=True, random_state=1001)\n        \n    # Create arrays and dataframes to store results\n    oof_preds = np.zeros(train_df.shape[0])\n    sub_preds = np.zeros(test_df.shape[0])\n    feature_importance_df = pd.DataFrame()\n\n    drop_features = [\"winPlacePerc\", \"Id\", \"groupId\", \"matchId\"]\n    feats = [f for f in train_df.columns if f not in drop_features]\n    \n    for n_fold, (train_idx, valid_idx) in enumerate(folds.split(train_df[feats], train_df['winPlacePerc'])):\n        train_x, train_y = train_df[feats].iloc[train_idx], train_df['winPlacePerc'].iloc[train_idx]\n        valid_x, valid_y = train_df[feats].iloc[valid_idx], train_df['winPlacePerc'].iloc[valid_idx]\n\n        # LightGBM parameters\n        reg = LGBMRegressor(num_leaves=params['num_leaves'], learning_rate=params['learning_rate'], \n                            n_estimators=params['n_estimators'], max_depth=params['max_depth'],\n                            max_bin = params['max_bin'], bagging_fraction = params['bagging_fraction'], \n                            bagging_freq = params['bagging_freq'], feature_fraction = params['feature_fraction']\n                           )\n\n        reg.fit(train_x, train_y, eval_set=[(train_x, train_y), (valid_x, valid_y)],\n            eval_metric= 'mae', verbose= 50, early_stopping_rounds= 200)\n\n        oof_preds[valid_idx] = reg.predict(valid_x)\n        sub_preds += reg.predict(test_df[feats]) / folds.n_splits\n\n        fold_importance_df = pd.DataFrame()\n        fold_importance_df[\"feature\"] = feats\n        fold_importance_df[\"importance\"] = reg.feature_importances_\n        fold_importance_df[\"fold\"] = n_fold + 1\n        feature_importance_df = pd.concat([feature_importance_df, fold_importance_df], axis=0)\n        print('Fold %2d MAE : %.6f' % (n_fold + 1, mean_absolute_error(valid_y, oof_preds[valid_idx])))\n        del reg, train_x, train_y, valid_x, valid_y\n        gc.collect()\n\n    print('Full MAE score %.6f' % mean_absolute_error(train_df['winPlacePerc'], oof_preds))\n    # Write submission file and plot feature importance\n    if not debug:\n        test_df['winPlacePerc'] = sub_preds\n        test_df[['Id', 'winPlacePerc']].to_csv(\"submission.csv\", index= False)\n    return feature_importance_df",
      "execution_count": 11,
      "outputs": []
    },
    {
      "metadata": {
        "trusted": true,
        "_uuid": "78d71bed41ec7e06e7730bfc40dcb07477f1d726"
      },
      "cell_type": "code",
      "source": "feat_importances = kfold_lightgbm(dataset, num_folds=5, stratified=False, debug=False)\n",
      "execution_count": 12,
      "outputs": [
        {
          "output_type": "stream",
          "text": "Starting LightGBM. Train shape: (4357226, 32), test shape: (1867913, 32)\nTraining until validation scores don't improve for 200 rounds.\n[50]\ttraining's l1: 0.0525139\tvalid_1's l1: 0.0525999\n[100]\ttraining's l1: 0.0508103\tvalid_1's l1: 0.0509779\n[150]\ttraining's l1: 0.0501044\tvalid_1's l1: 0.0503577\n[200]\ttraining's l1: 0.049676\tvalid_1's l1: 0.0499999\n[250]\ttraining's l1: 0.0493324\tvalid_1's l1: 0.0497308\n[300]\ttraining's l1: 0.0490299\tvalid_1's l1: 0.0495009\n[350]\ttraining's l1: 0.0487859\tvalid_1's l1: 0.0493208\n[400]\ttraining's l1: 0.0485492\tvalid_1's l1: 0.0491444\n[450]\ttraining's l1: 0.0482864\tvalid_1's l1: 0.0489445\n[500]\ttraining's l1: 0.0480441\tvalid_1's l1: 0.0487677\n[550]\ttraining's l1: 0.0478285\tvalid_1's l1: 0.0486106\n[600]\ttraining's l1: 0.0476068\tvalid_1's l1: 0.0484478\n[650]\ttraining's l1: 0.0473987\tvalid_1's l1: 0.0483021\n[700]\ttraining's l1: 0.0472088\tvalid_1's l1: 0.048168\n[750]\ttraining's l1: 0.0470144\tvalid_1's l1: 0.0480298\n[800]\ttraining's l1: 0.0468337\tvalid_1's l1: 0.0479025\nDid not meet early stopping. Best iteration is:\n[800]\ttraining's l1: 0.0468337\tvalid_1's l1: 0.0479025\nFold  1 MAE : 0.047902\nTraining until validation scores don't improve for 200 rounds.\n[50]\ttraining's l1: 0.0525594\tvalid_1's l1: 0.0526501\n[100]\ttraining's l1: 0.0508241\tvalid_1's l1: 0.0510151\n[150]\ttraining's l1: 0.0501314\tvalid_1's l1: 0.0504058\n[200]\ttraining's l1: 0.0497105\tvalid_1's l1: 0.0500578\n[250]\ttraining's l1: 0.0493678\tvalid_1's l1: 0.0497829\n[300]\ttraining's l1: 0.049076\tvalid_1's l1: 0.0495588\n[350]\ttraining's l1: 0.0488068\tvalid_1's l1: 0.0493552\n[400]\ttraining's l1: 0.0485386\tvalid_1's l1: 0.0491476\n[450]\ttraining's l1: 0.0482978\tvalid_1's l1: 0.048967\n[500]\ttraining's l1: 0.0480628\tvalid_1's l1: 0.0487939\n[550]\ttraining's l1: 0.0478423\tvalid_1's l1: 0.0486349\n[600]\ttraining's l1: 0.0476271\tvalid_1's l1: 0.0484787\n[650]\ttraining's l1: 0.0474261\tvalid_1's l1: 0.0483324\n[700]\ttraining's l1: 0.0472264\tvalid_1's l1: 0.0481862\n[750]\ttraining's l1: 0.0470311\tvalid_1's l1: 0.0480471\n[800]\ttraining's l1: 0.046847\tvalid_1's l1: 0.0479137\nDid not meet early stopping. Best iteration is:\n[800]\ttraining's l1: 0.046847\tvalid_1's l1: 0.0479137\nFold  2 MAE : 0.047914\nTraining until validation scores don't improve for 200 rounds.\n[50]\ttraining's l1: 0.0525029\tvalid_1's l1: 0.0526467\n[100]\ttraining's l1: 0.0508182\tvalid_1's l1: 0.0510373\n[150]\ttraining's l1: 0.0501459\tvalid_1's l1: 0.0504371\n[200]\ttraining's l1: 0.0497094\tvalid_1's l1: 0.0500741\n[250]\ttraining's l1: 0.0493822\tvalid_1's l1: 0.0498159\n[300]\ttraining's l1: 0.0490769\tvalid_1's l1: 0.0495784\n[350]\ttraining's l1: 0.0487797\tvalid_1's l1: 0.0493516\n[400]\ttraining's l1: 0.0485299\tvalid_1's l1: 0.0491702\n[450]\ttraining's l1: 0.048297\tvalid_1's l1: 0.0489966\n[500]\ttraining's l1: 0.0480682\tvalid_1's l1: 0.0488232\n[550]\ttraining's l1: 0.0478459\tvalid_1's l1: 0.0486606\n[600]\ttraining's l1: 0.0476313\tvalid_1's l1: 0.0485041\n[650]\ttraining's l1: 0.0474199\tvalid_1's l1: 0.0483523\n[700]\ttraining's l1: 0.0472186\tvalid_1's l1: 0.0482127\n[750]\ttraining's l1: 0.0470241\tvalid_1's l1: 0.0480748\n[800]\ttraining's l1: 0.0468411\tvalid_1's l1: 0.0479484\nDid not meet early stopping. Best iteration is:\n[800]\ttraining's l1: 0.0468411\tvalid_1's l1: 0.0479484\nFold  3 MAE : 0.047948\nTraining until validation scores don't improve for 200 rounds.\n[50]\ttraining's l1: 0.0525171\tvalid_1's l1: 0.0526325\n[100]\ttraining's l1: 0.0508091\tvalid_1's l1: 0.0509983\n[150]\ttraining's l1: 0.0501466\tvalid_1's l1: 0.0504046\n[200]\ttraining's l1: 0.0497336\tvalid_1's l1: 0.0500659\n[250]\ttraining's l1: 0.0493918\tvalid_1's l1: 0.0497932\n[300]\ttraining's l1: 0.0490981\tvalid_1's l1: 0.0495601\n[350]\ttraining's l1: 0.0488301\tvalid_1's l1: 0.0493619\n[400]\ttraining's l1: 0.0485958\tvalid_1's l1: 0.049191\n[450]\ttraining's l1: 0.0483635\tvalid_1's l1: 0.049017\n[500]\ttraining's l1: 0.0481232\tvalid_1's l1: 0.0488335\n[550]\ttraining's l1: 0.0478996\tvalid_1's l1: 0.0486692\n[600]\ttraining's l1: 0.0476844\tvalid_1's l1: 0.048507\n[650]\ttraining's l1: 0.0474741\tvalid_1's l1: 0.0483563\n[700]\ttraining's l1: 0.047299\tvalid_1's l1: 0.0482375\n[750]\ttraining's l1: 0.0470968\tvalid_1's l1: 0.0480938\n[800]\ttraining's l1: 0.0468946\tvalid_1's l1: 0.0479515\nDid not meet early stopping. Best iteration is:\n[800]\ttraining's l1: 0.0468946\tvalid_1's l1: 0.0479515\nFold  4 MAE : 0.047951\nTraining until validation scores don't improve for 200 rounds.\n[50]\ttraining's l1: 0.0525168\tvalid_1's l1: 0.0526212\n[100]\ttraining's l1: 0.0507584\tvalid_1's l1: 0.0509597\n[150]\ttraining's l1: 0.0501049\tvalid_1's l1: 0.0503923\n[200]\ttraining's l1: 0.049676\tvalid_1's l1: 0.0500414\n[250]\ttraining's l1: 0.049354\tvalid_1's l1: 0.0497906\n[300]\ttraining's l1: 0.049048\tvalid_1's l1: 0.0495559\n[350]\ttraining's l1: 0.0487783\tvalid_1's l1: 0.0493525\n[400]\ttraining's l1: 0.048512\tvalid_1's l1: 0.049153\n[450]\ttraining's l1: 0.0482774\tvalid_1's l1: 0.0489837\n[500]\ttraining's l1: 0.0480452\tvalid_1's l1: 0.0488163\n[550]\ttraining's l1: 0.0477988\tvalid_1's l1: 0.0486374\n[600]\ttraining's l1: 0.0475956\tvalid_1's l1: 0.0484919\n[650]\ttraining's l1: 0.0473928\tvalid_1's l1: 0.0483424\n[700]\ttraining's l1: 0.0471916\tvalid_1's l1: 0.0481958\n[750]\ttraining's l1: 0.0469995\tvalid_1's l1: 0.0480599\n[800]\ttraining's l1: 0.0468031\tvalid_1's l1: 0.0479184\nDid not meet early stopping. Best iteration is:\n[800]\ttraining's l1: 0.0468031\tvalid_1's l1: 0.0479184\nFold  5 MAE : 0.047918\nFull MAE score 0.047927\n",
          "name": "stdout"
        },
        {
          "output_type": "stream",
          "text": "/opt/conda/lib/python3.6/site-packages/ipykernel_launcher.py:52: SettingWithCopyWarning: \nA value is trying to be set on a copy of a slice from a DataFrame.\nTry using .loc[row_indexer,col_indexer] = value instead\n\nSee the caveats in the documentation: http://pandas.pydata.org/pandas-docs/stable/indexing.html#indexing-view-versus-copy\n",
          "name": "stderr"
        }
      ]
    },
    {
      "metadata": {
        "trusted": true,
        "_uuid": "edda3e9e7aa7c629d7214d3ec87d5a37b4de8059"
      },
      "cell_type": "code",
      "source": "import seaborn as sns\nimport matplotlib.pyplot as plt\ndef display_importances(feature_importance_df_):\n    cols = feature_importance_df_[[\"feature\", \"importance\"]].groupby(\"feature\").mean().sort_values(by=\"importance\", ascending=False)[:40].index\n    best_features = feature_importance_df_.loc[feature_importance_df_.feature.isin(cols)]\n    plt.figure(figsize=(8, 10))\n    sns.barplot(x=\"importance\", y=\"feature\", data=best_features.sort_values(by=\"importance\", ascending=False))\n    plt.title('LightGBM Features (avg over folds)')\n    plt.tight_layout()\n    plt.savefig('lgbm_importances.png')\ndisplay_importances(feat_importances)",
      "execution_count": null,
      "outputs": [
        {
          "output_type": "stream",
          "text": "/opt/conda/lib/python3.6/site-packages/scipy/stats/stats.py:1713: FutureWarning: Using a non-tuple sequence for multidimensional indexing is deprecated; use `arr[tuple(seq)]` instead of `arr[seq]`. In the future this will be interpreted as an array index, `arr[np.array(seq)]`, which will result either in an error or a different result.\n  return np.add.reduce(sorted[indexer] * weights, axis=axis) / sumval\n",
          "name": "stderr"
        }
      ]
    },
    {
      "metadata": {
        "trusted": true,
        "_uuid": "94190d363dafb5fbb60df88cbaa056a47150e8b6"
      },
      "cell_type": "code",
      "source": "",
      "execution_count": null,
      "outputs": []
    }
  ],
  "metadata": {
    "kernelspec": {
      "display_name": "Python 3",
      "language": "python",
      "name": "python3"
    },
    "language_info": {
      "name": "python",
      "version": "3.6.6",
      "mimetype": "text/x-python",
      "codemirror_mode": {
        "name": "ipython",
        "version": 3
      },
      "pygments_lexer": "ipython3",
      "nbconvert_exporter": "python",
      "file_extension": ".py"
    }
  },
  "nbformat": 4,
  "nbformat_minor": 1
}